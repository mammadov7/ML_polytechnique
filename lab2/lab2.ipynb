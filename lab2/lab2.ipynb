{
 "cells": [
  {
   "cell_type": "code",
   "execution_count": 1,
   "metadata": {},
   "outputs": [],
   "source": [
    "import numpy as np\n",
    "import matplotlib.pyplot as plt"
   ]
  },
  {
   "cell_type": "markdown",
   "metadata": {},
   "source": [
    "# INF 554 Lab 2: Supervised Classification\n",
    "\n",
    "## Logistic Regression and Gradient Descent\n",
    "\n",
    "In linear regression, we got a real-valued response\n",
    "\t\n",
    "$$y = \\theta_0 + \\theta_1 x_1 + \\cdots + \\theta_d x_d$$\n",
    "    \n",
    "i.e., a linear combination of inputs, where $y \\in \\mathbf{R}$. \n",
    "\n",
    "In classification, we want an *indication* of how likely an instance is to belong to a particular class; a probability $\\in [0,1]$.  \n",
    "\n",
    "Given a real valued $a$, we can squish it to range $\\sigma(a) \\in [0,1]$ by feeding it through the **logistic function** aka **sigmoid function**:\n",
    "\t\t\n",
    "\\begin{equation}\n",
    "\\sigma(a) = \\frac{1}{1+\\exp(-a)} \\hspace{1.5cm}(1)\n",
    "\\end{equation}\n",
    "\n",
    "Which looks like this: ![Sigmoid](https://upload.wikimedia.org/wikipedia/commons/thumb/8/88/Logistic-curve.svg/320px-Logistic-curve.svg.png)\n",
    "\n",
    "Therefore, we can treat this as a probability, i.e.,\n",
    "\n",
    "\\begin{align*}\n",
    "P(y=1|\\mathbf{x}) &= \\sigma(\\mathbf{\\theta}^\\top\\mathbf{x}) \\\\\n",
    "P(y=0|\\mathbf{x}) &= 1 - \\sigma(\\mathbf{\\theta}^\\top\\mathbf{x}) \n",
    "\\end{align*}\n",
    "\n",
    "where we omit the bias term and suppose that both $\\mathbf{\\theta}$ and $\\mathbf{x}$ are column vectors.\n",
    "\n",
    "> **Task 1**: implement the sigmoid function (1)\n"
   ]
  },
  {
   "cell_type": "code",
   "execution_count": null,
   "metadata": {},
   "outputs": [],
   "source": [
    "def sigmoid(z):\n",
    "    # insert here the code for Task 1"
   ]
  },
  {
   "cell_type": "markdown",
   "metadata": {},
   "source": [
    "To fit the model, we want weights (i.e., parameters) $\\mathbf{\\theta}$ to reduce the error.\n",
    "It means that the **likelihood** of the whole dataset can be written as: \n",
    "\n",
    "\\begin{equation}\n",
    "P\\left(\\{\\mathbf{x}_i,y_i\\}_{i=1}^n\\right) = \\prod_{i=1}^n P(Y = y_i|\\mathbf{X} = \\mathbf{x}_i) \\hspace{1.5cm}(2)\n",
    "\\end{equation}\n",
    "\n",
    "> **Task 2**: implement the cost function (2)"
   ]
  },
  {
   "cell_type": "code",
   "execution_count": null,
   "metadata": {},
   "outputs": [],
   "source": [
    "def cost(w, X, y):\n",
    "    # Computes the cost using w as the parameters for logistic regression.\n",
    "    # TODO"
   ]
  },
  {
   "cell_type": "markdown",
   "metadata": {},
   "source": [
    "As in OLS of the previous lab, and machine learning in general, we want to find values of the parameters which minimize our cost function. In this case the cost function is the negative log likelihood. We'll call this $E(\\mathbf{ \\theta})$. \n",
    "\n",
    ">**Ques 1**:Derive the gradient of the cost function with respect to the model's parameters $\\nabla_{\\mathbf{\\theta}} E(\\mathbf{\\theta})$.  Hint 1: Recall you should take the *log* likelihood. Hint 2: Prior to taking the log, you an use the expression of a Bernoulli distribution, $\\sigma_i^{y_i} (1-\\sigma_i)^{1-y_i}$ where $\\sigma_i \\equiv \\sigma(\\mathbf{\\theta}^\\top\\mathbf{x}_i)$. Hint 3: A useful derivative $\\sigma' = (1 - \\sigma)\\sigma$.}\n",
    "\n",
    "You'll notice that, unlike under OLS, it's not a closed form expression; you have $\\mathbf{\\theta}$ on the right hand side of the equation. Nevertheless, we can use numerical methods to find optimal ${\\mathbf{\\theta}^*}$.\n",
    "\n",
    ">**Task 3**: Implement the gradient of the cost function (which you just derived above).\n"
   ]
  },
  {
   "cell_type": "code",
   "execution_count": null,
   "metadata": {},
   "outputs": [],
   "source": [
    "def compute_grad(w, X, y):\n",
    "    # Computes the gradient of the cost with respect to the parameters.\n",
    "    \n",
    "    dE = np.zeros_like(w) # initialize gradient\n",
    "    \n",
    "    # TODO\n",
    "    \n",
    "    return dE"
   ]
  },
  {
   "cell_type": "markdown",
   "metadata": {},
   "source": [
    "What we have now is a vector $\\mathbf{g} = \\nabla_{\\mathbf{\\theta}} E(\\mathbf{\\theta})$; the **gradient** of the function. Note that the dimensionality is the same as the input. We can move in the direction of the gradient and thus descend the function. This is the idea of **Gradient Descent**: we iteratively follow the gradient down the error surface. We repeatedly carry out \n",
    "\\begin{equation}\n",
    "\\mathbf{\\theta}_{t+1} = \\mathbf{\\theta}_{t} - \\alpha \\nabla_{\\mathbf{\\theta}} E(\\mathbf{\\theta}_t) \\hspace{1.5cm}(3)\n",
    "\\end{equation}\n",
    "\n",
    "where $\\alpha$ is the **learning rate**; for $t=1,2,\\ldots,T$, such that $\\mathbf{\\theta}^* \\gets \\mathbf{\\theta}_T$.\n",
    "\n",
    "> **Task 4**: Use the functions implemented so far to implement gradient descent, Eq.(3), for a fixed number of steps (say, $T=500\\,000$) and learning rate to (say, $\\alpha=0.005$).\n"
   ]
  },
  {
   "cell_type": "code",
   "execution_count": null,
   "metadata": {},
   "outputs": [],
   "source": [
    "alpha = 0.005\n",
    "T = 500000\n",
    "\n",
    "for i in range(T): \n",
    "    # TODO"
   ]
  },
  {
   "cell_type": "markdown",
   "metadata": {},
   "source": [
    "> **Task 5**: Implement a function to provide predictions $\\hat{\\mathbf{y}} \\in \\{0,1\\}$ for any given $\\mathbf{x}$ and $\\hat{\\mathbf{\\theta}}$ (from the previous task) by assigning $\\hat{\\mathbf{y}}_i = 1$ whenever $\\sigma_i \\geq 0.5$. In other words, you turn logistic regression into a **classifier**. "
   ]
  },
  {
   "cell_type": "code",
   "execution_count": null,
   "metadata": {},
   "outputs": [],
   "source": [
    "def predict(w, X):\n",
    "    # Predict whether each label is 0 or 1 using learned logistic regression parameters w. The threshold is set at 0.5\n",
    "\n",
    "    N = X.shape[0] # number of examples\n",
    "    yp = np.zeros(N) # predicted classes of examples\n",
    "    \n",
    "    # TODO \n",
    "    return yp"
   ]
  },
  {
   "cell_type": "markdown",
   "metadata": {},
   "source": [
    "There is data provided in the *data/* folder. Suppose that each column represents an exam score during a course, with the class label indicated *admitted* or not into a Masters program at some university. We want a model to give the probability that a student will be admitted based on the two grades of two courses. Some plotting code is already provided. \n",
    " \n",
    "> **Task 6**: Make a train-test split of the data provided and evaluate your classifier (similarly to as in the first lab). Output and/or plot the error $E(\\mathbf{\\theta}_t)$ both on the training **and** test set, for $t=1,\\ldots,T$. Hint: You may want to plot the average of a moving window.\n"
   ]
  },
  {
   "cell_type": "code",
   "execution_count": 6,
   "metadata": {},
   "outputs": [
    {
     "data": {
      "image/png": "[encoded data removed]",
      "text/plain": [
       "<Figure size 432x288 with 1 Axes>"
      ]
     },
     "metadata": {
      "needs_background": "light"
     },
     "output_type": "display_data"
    }
   ],
   "source": [
    "# Load the dataset\n",
    "data = np.loadtxt('./data/data.csv', delimiter=',')\n",
    " \n",
    "#Add intercept term \n",
    "data_1 = np.ones((data.shape[0], 4))\n",
    "data_1[:, 1:] = data\n",
    "\n",
    "# Standardize the data\n",
    "# (It will still work without standardization, but may behave erratically)\n",
    "data_1[:,1:3] = (data_1[:,1:3] - np.mean(data_1[:,1:3],axis=0)) / np.std(data_1[:,1:3],axis=0)\n",
    "\n",
    "X = data_1[:, 0:3]\n",
    "y = data_1[:, -1]\n",
    "\n",
    "# Plot data \n",
    "pos = np.where(y == 1) # instances of class 1\n",
    "neg = np.where(y == 0) # instances of class 0\n",
    "plt.scatter(X[pos, 1], X[pos, 2], marker='o', c='b')\n",
    "plt.scatter(X[neg, 1], X[neg, 2], marker='x', c='r')\n",
    "plt.xlabel('Exam 1 score')\n",
    "plt.ylabel('Exam 2 score')\n",
    "plt.legend(['Admitted', 'Not Admitted'])\n",
    "plt.show()\n",
    "\n",
    "\n",
    "N = X.shape[0]\n",
    "\n",
    "# Initialize fitting parameters \n",
    "w = np.random.randn(3,1) * 0.05"
   ]
  },
  {
   "cell_type": "markdown",
   "metadata": {},
   "source": [
    "> **Ques 2**: Knowing that the cost function is convex, are you convinced that with a suitable learning rate, gradient descent will always converge to the minimum? What are some examples of poor learning rates?\n",
    "\n",
    "> **Task 7**: Following your considerations in the previous question -- can you find a better learning rate, such that you reduce error more efficiently (for smaller $T$?).\n",
    "\n",
    "> **Task 8**: (Bonus) Instead of the whole training set, select a random subset (i.e., minibatch) of 10 examples for each iteration. This is known as **stochastic gradient descent**.\n",
    "\n",
    "> **Ques 3**: (Bonus) What are the advantages of stochastic gradient descent over classical gradient descent? (Especially with a non-convex loss function).\n",
    "\n"
   ]
  },
  {
   "cell_type": "markdown",
   "metadata": {},
   "source": [
    "## K-Nearest Neighbours\n",
    "\n",
    "The method $k$NN takes a different approach to modeling $P(Y=1|\\mathbf{x})$. It is a non-parametric lazy method, and does not have a \"model\" as such. It predicts with\n",
    "$$\n",
    "P(Y=1|\\mathbf{x}) \\approx \\frac{1}{k} \\sum_{\\mathbf{x}_i \\in \\textsf{Ne}_k(\\mathbf{x})} y_i \n",
    "$$\n",
    "where $\\textsf{Ne}_k(\\mathbf{x})$ is the *neighbourhood* of the $k$ training examples closest to $\\mathbf{x}$ (typically measured by Euclidean distance). \n",
    "\n",
    "> **Ques 4**: What is the effect of different values of $k$? Hint: Draw on paper and/or empirically test different values.\n",
    "\n",
    "> **Ques 5**: What is the complexity of making a prediction with a naive implementation of $k$-NN? When is this likely to be a problem in practice?\n",
    "\n",
    "> **Task 9**: (Bonus) Implement this function to create a $k$-NN classifier and evaluate it on the data provided. Hint: there is not really any training stage here; simple store the training instances to search over later."
   ]
  },
  {
   "cell_type": "code",
   "execution_count": null,
   "metadata": {},
   "outputs": [],
   "source": [
    "from numpy.linalg import norm\n",
    "\n",
    "def kNN(k, X, y, x):\n",
    "    '''\n",
    "    kNN classification of x\n",
    "    -----------------------\n",
    "        Input: \n",
    "        k: number of nearest neighbors\n",
    "        X: training data           \n",
    "        y: class labels of training data\n",
    "        x: test instance\n",
    "\n",
    "        return the label to be associated with x\n",
    "\n",
    "        Hint: you may use the function 'norm' \n",
    "    '''\n",
    "    # Enter here your solution for Task 9"
   ]
  }
 ],
 "metadata": {
  "kernelspec": {
   "display_name": "Python 3",
   "language": "python",
   "name": "python3"
  },
  "language_info": {
   "codemirror_mode": {
    "name": "ipython",
    "version": 3
   },
   "file_extension": ".py",
   "mimetype": "text/x-python",
   "name": "python",
   "nbconvert_exporter": "python",
   "pygments_lexer": "ipython3",
   "version": "3.6.9"
  }
 },
 "nbformat": 4,
 "nbformat_minor": 4
}
